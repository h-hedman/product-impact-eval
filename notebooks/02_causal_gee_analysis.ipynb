{
 "cells": [
  {
   "cell_type": "code",
   "execution_count": 26,
   "id": "60261f43-d78b-432d-841c-f636be1b983b",
   "metadata": {},
   "outputs": [
    {
     "data": {
      "text/plain": [
       "'\\nScript: 02_causal_gee_analysis.py\\nAuthor: Hayden Hedman\\nCreated: June 2025\\nPurpose: \\n    This script implements a generalized estimating equations (GEE) model to estimate the causal effect \\n    of a product treatment on user engagement over time, adjusting for user-level covariates. \\n    The analysis accounts for repeated measures by clustering at the user level.\\n\\nInputs:\\n    - data/simulated_user_behavior.csv (generated from script 01)\\n\\nOutputs:\\n    - Console summary of GEE model results\\n    - Interpretation-ready coefficient estimates with robust standard errors\\n\\nDependencies:\\n    - pandas\\n    - numpy\\n    - statsmodels\\n    - matplotlib (optional, for future plotting)\\n\\nNotes:\\n    - Designed for clarity and auditability\\n    - Can be adapted for real-world A/B test evaluation or panel data modeling\\n'"
      ]
     },
     "execution_count": 26,
     "metadata": {},
     "output_type": "execute_result"
    }
   ],
   "source": [
    "\"\"\"\n",
    "Script: 02_causal_gee_analysis.py\n",
    "Author: Hayden Hedman\n",
    "Created: June 2025\n",
    "Purpose: \n",
    "    This script implements a generalized estimating equations (GEE) model to estimate the causal effect \n",
    "    of a product treatment on user engagement over time, adjusting for user-level covariates. \n",
    "    The analysis accounts for repeated measures by clustering at the user level.\n",
    "\n",
    "Inputs:\n",
    "    - data/simulated_user_behavior.csv (generated from script 01)\n",
    "\n",
    "Outputs:\n",
    "    - Console summary of GEE model results\n",
    "    - Interpretation-ready coefficient estimates with robust standard errors\n",
    "\n",
    "Dependencies:\n",
    "    - pandas\n",
    "    - numpy\n",
    "    - statsmodels\n",
    "    - matplotlib (optional, for future plotting)\n",
    "\n",
    "Notes:\n",
    "    - Designed for clarity and auditability\n",
    "    - Can be adapted for real-world A/B test evaluation or panel data modeling\n",
    "\"\"\""
   ]
  },
  {
   "cell_type": "code",
   "execution_count": 27,
   "id": "500ded84-7ea4-4a2d-a075-ff959328fb96",
   "metadata": {},
   "outputs": [],
   "source": [
    "#Load libraries\n",
    "import pandas as pd\n",
    "import statsmodels.api as sm\n",
    "from statsmodels.genmod.cov_struct import Independence\n",
    "import os"
   ]
  },
  {
   "cell_type": "code",
   "execution_count": 28,
   "id": "98bfb576-8d50-4b88-9717-a2456570414a",
   "metadata": {},
   "outputs": [
    {
     "name": "stdout",
     "output_type": "stream",
     "text": [
      "Confirmed: Data loaded: (300000, 14)\n"
     ]
    }
   ],
   "source": [
    "# Correct relative path to data from /notebooks folder\n",
    "DATA_PATH = os.path.join(\"..\", \"data\", \"simulated_user_behavior.csv\")\n",
    "\n",
    "# Load data\n",
    "if not os.path.exists(DATA_PATH):\n",
    "    raise FileNotFoundError(f\"Expected dataset not found at: {DATA_PATH}\")\n",
    "\n",
    "df = pd.read_csv(DATA_PATH)\n",
    "print(\"Confirmed: Data loaded:\", df.shape)"
   ]
  },
  {
   "cell_type": "code",
   "execution_count": 29,
   "id": "71fef5b7-bb9a-40dd-9760-63be79f3fdf4",
   "metadata": {},
   "outputs": [],
   "source": [
    "# Load data\n",
    "if not os.path.exists(DATA_PATH):\n",
    "    raise FileNotFoundError(f\"Expected dataset not found at: {DATA_PATH}\")\n",
    "\n",
    "df = pd.read_csv(DATA_PATH)"
   ]
  },
  {
   "cell_type": "code",
   "execution_count": 30,
   "id": "51249ccc-420c-487e-ad09-46e4abe34a32",
   "metadata": {},
   "outputs": [
    {
     "name": "stdout",
     "output_type": "stream",
     "text": [
      "Confirmed: data loaded:\n",
      "   user_id  day  age  is_premium  device region signup_channel  power_user  \\\n",
      "0        0    0   46           0  mobile   APAC        organic           1   \n",
      "1        0    1   46           0  mobile   APAC        organic           1   \n",
      "2        0    2   46           0  mobile   APAC        organic           1   \n",
      "3        0    3   46           0  mobile   APAC        organic           1   \n",
      "4        0    4   46           0  mobile   APAC        organic           1   \n",
      "\n",
      "   is_female  treatment  post  post_treated  engagement  prior_engagement  \n",
      "0          0          0     0             0    2.078719          3.730117  \n",
      "1          0          0     0             0    1.373123          3.730117  \n",
      "2          0          0     0             0    3.510399          3.730117  \n",
      "3          0          0     0             0    2.622221          3.730117  \n",
      "4          0          0     0             0    3.729853          3.730117  \n",
      "\n",
      " Columns: ['user_id', 'day', 'age', 'is_premium', 'device', 'region', 'signup_channel', 'power_user', 'is_female', 'treatment', 'post', 'post_treated', 'engagement', 'prior_engagement']\n"
     ]
    }
   ],
   "source": [
    "# Quick data check: prints data loaded and basic checks on data structure\n",
    "print(\"Confirmed: data loaded:\")\n",
    "print(df.head())\n",
    "print(\"\\n Columns:\", df.columns.tolist())\n",
    "\n",
    "# Define model\n",
    "ind = Independence()\n",
    "fam = sm.families.Gaussian()\n",
    "\n",
    "# Ensure formula variables exist\n",
    "required_cols = [\n",
    "    \"engagement\", \"post\", \"treatment\", \"post_treated\",\n",
    "    \"age\", \"is_female\", \"prior_engagement\", \"user_id\"\n",
    "]\n",
    "missing = set(required_cols) - set(df.columns)\n",
    "if missing:\n",
    "    raise ValueError(f\"Missing required columns: {missing}\")\n",
    "\n",
    "# 6. Fit GEE model\n",
    "model = sm.GEE.from_formula(\n",
    "    \"engagement ~ post + treatment + post_treated + age + is_female + prior_engagement\",\n",
    "    groups=\"user_id\",\n",
    "    data=df,\n",
    "    cov_struct=ind,\n",
    "    family=fam\n",
    ")\n",
    "result = model.fit()"
   ]
  },
  {
   "cell_type": "code",
   "execution_count": 31,
   "id": "801ffcce-0b5e-4200-806c-22eeb86bdb89",
   "metadata": {},
   "outputs": [
    {
     "name": "stdout",
     "output_type": "stream",
     "text": [
      "\n",
      " GEE Results:\n",
      "                               GEE Regression Results                              \n",
      "===================================================================================\n",
      "Dep. Variable:                  engagement   No. Observations:               300000\n",
      "Model:                                 GEE   No. clusters:                     5000\n",
      "Method:                        Generalized   Min. cluster size:                  60\n",
      "                      Estimating Equations   Max. cluster size:                  60\n",
      "Family:                           Gaussian   Mean cluster size:                60.0\n",
      "Dependence structure:         Independence   Num. iterations:                     2\n",
      "Date:                     Sun, 17 Aug 2025   Scale:                           1.184\n",
      "Covariance type:                    robust   Time:                         13:40:07\n",
      "====================================================================================\n",
      "                       coef    std err          z      P>|z|      [0.025      0.975]\n",
      "------------------------------------------------------------------------------------\n",
      "Intercept            0.7881      0.022     36.366      0.000       0.746       0.831\n",
      "post                 1.4991      0.004    355.145      0.000       1.491       1.507\n",
      "treatment           -0.0011      0.002     -0.581      0.561      -0.005       0.003\n",
      "post_treated         1.5036      0.008    184.617      0.000       1.488       1.520\n",
      "age                 -0.0020      0.000    -11.998      0.000      -0.002      -0.002\n",
      "is_female           -0.0031      0.003     -0.953      0.340      -0.009       0.003\n",
      "prior_engagement     0.7956      0.005    144.723      0.000       0.785       0.806\n",
      "==============================================================================\n",
      "Skew:                         -0.0024   Kurtosis:                      -0.0149\n",
      "Centered skew:                -0.0005   Centered kurtosis:             -0.0144\n",
      "==============================================================================\n"
     ]
    }
   ],
   "source": [
    "# Display results\n",
    "print(\"\\n GEE Results:\")\n",
    "print(result.summary())"
   ]
  },
  {
   "cell_type": "code",
   "execution_count": null,
   "id": "4f34457a-d86f-454a-a1b0-0f06a7d0c681",
   "metadata": {},
   "outputs": [],
   "source": []
  }
 ],
 "metadata": {
  "kernelspec": {
   "display_name": "Python [conda env:base] *",
   "language": "python",
   "name": "conda-base-py"
  },
  "language_info": {
   "codemirror_mode": {
    "name": "ipython",
    "version": 3
   },
   "file_extension": ".py",
   "mimetype": "text/x-python",
   "name": "python",
   "nbconvert_exporter": "python",
   "pygments_lexer": "ipython3",
   "version": "3.12.3"
  }
 },
 "nbformat": 4,
 "nbformat_minor": 5
}
