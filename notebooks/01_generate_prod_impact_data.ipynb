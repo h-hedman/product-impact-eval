{
 "cells": [
  {
   "cell_type": "code",
   "execution_count": 27,
   "id": "85b7d4d4-294d-487a-a320-4331c1d9d1a7",
   "metadata": {},
   "outputs": [],
   "source": [
    "import numpy as np\n",
    "import pandas as pd\n",
    "import os\n",
    "import matplotlib.pyplot as plt\n",
    "import seaborn as sns\n",
    "from itertools import product\n",
    "\n",
    "# Set random seed\n",
    "np.random.seed(64)\n",
    "\n",
    "# Parameters\n",
    "n_users = 5000\n",
    "n_days = 60  # 30 pre, 30 post\n",
    "intervention_day = 30\n",
    "\n",
    "# User-level covariates\n",
    "users = pd.DataFrame({\n",
    "    \"user_id\": np.arange(n_users),\n",
    "    \"age\": np.random.normal(35, 10, size=n_users).astype(int),\n",
    "    \"is_premium\": np.random.binomial(1, 0.3, n_users),\n",
    "    \"device\": np.random.choice([\"mobile\", \"desktop\", \"tablet\"], size=n_users, p=[0.6, 0.3, 0.1]),\n",
    "    \"region\": np.random.choice([\"US\", \"EU\", \"LATAM\", \"APAC\"], size=n_users),\n",
    "    \"signup_channel\": np.random.choice([\"organic\", \"paid\", \"referral\"], size=n_users, p=[0.5, 0.4, 0.1]),\n",
    "    \"power_user\": np.random.binomial(1, 0.25, n_users),\n",
    "    \"is_female\": np.random.binomial(1, 0.5, n_users)  # add binary gender\n",
    "})\n",
    "\n",
    "# Assign treatment group\n",
    "users[\"treatment\"] = (\n",
    "    (users[\"is_premium\"] & (users[\"device\"] == \"mobile\")) |\n",
    "    (np.random.rand(n_users) < 0.1)\n",
    ").astype(int)\n",
    "\n",
    "# Create user-day observations\n",
    "obs = pd.DataFrame(list(product(users[\"user_id\"], np.arange(n_days))), columns=[\"user_id\", \"day\"])\n",
    "obs = obs.merge(users, on=\"user_id\")\n",
    "obs[\"post\"] = (obs[\"day\"] >= intervention_day).astype(int)\n",
    "obs[\"post_treated\"] = obs[\"post\"] * obs[\"treatment\"]\n",
    "\n",
    "# Simulate engagement (main outcome)\n",
    "obs[\"engagement\"] = (\n",
    "    3\n",
    "    + 0.05 * obs[\"day\"]\n",
    "    + 1.5 * obs[\"post_treated\"]\n",
    "    - 0.01 * obs[\"age\"]\n",
    "    + 0.5 * obs[\"power_user\"]\n",
    "    + np.random.normal(0, 1, size=len(obs))\n",
    ")\n",
    "\n",
    "# Add prior engagement (mean pre-intervention engagement per user)\n",
    "obs[\"prior_engagement\"] = obs.groupby(\"user_id\")[\"engagement\"].transform(\n",
    "    lambda x: x[obs.loc[x.index, \"post\"] == 0].mean()\n",
    ")\n",
    "\n",
    "# Save synthetic dataset\n",
    "os.makedirs(\"data\", exist_ok=True)\n",
    "obs.to_csv(\"data/simulated_user_behavior.csv\", index=False)\n"
   ]
  },
  {
   "cell_type": "code",
   "execution_count": null,
   "id": "e5555660-7d22-404d-9bf8-70b92dd44172",
   "metadata": {},
   "outputs": [],
   "source": []
  }
 ],
 "metadata": {
  "kernelspec": {
   "display_name": "Python [conda env:base] *",
   "language": "python",
   "name": "conda-base-py"
  },
  "language_info": {
   "codemirror_mode": {
    "name": "ipython",
    "version": 3
   },
   "file_extension": ".py",
   "mimetype": "text/x-python",
   "name": "python",
   "nbconvert_exporter": "python",
   "pygments_lexer": "ipython3",
   "version": "3.12.3"
  }
 },
 "nbformat": 4,
 "nbformat_minor": 5
}
